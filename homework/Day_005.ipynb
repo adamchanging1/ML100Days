{
 "cells": [
  {
   "cell_type": "code",
   "execution_count": 2,
   "metadata": {},
   "outputs": [],
   "source": [
    "import numpy as np\n",
    "\n",
    "english_score = np.array([55, 89, 76, 65, 48, 70])\n",
    "math_score = np.array([60, 85, 60, 68, np.nan, 60])\n",
    "chinese_score = np.array([65, 90, 82, 72, 66, 77])"
   ]
  },
  {
   "cell_type": "code",
   "execution_count": 3,
   "metadata": {},
   "outputs": [
    {
     "data": {
      "text/plain": [
       "array([[55., 89., 76., 65., 48., 70.],\n",
       "       [60., 85., 60., 68., nan, 60.],\n",
       "       [65., 90., 82., 72., 66., 77.]])"
      ]
     },
     "execution_count": 3,
     "metadata": {},
     "output_type": "execute_result"
    }
   ],
   "source": [
    "all_score = np.vstack((english_score, math_score, chinese_score))     #成績合併\n",
    "all_score"
   ]
  },
  {
   "cell_type": "code",
   "execution_count": 4,
   "metadata": {},
   "outputs": [
    {
     "name": "stdout",
     "output_type": "stream",
     "text": [
      "[67.2 66.6 75.3]\n",
      "[89. 85. 90.]\n",
      "[48. 60. 65.]\n",
      "[13.4  9.7  8.8]\n"
     ]
    }
   ],
   "source": [
    "print(np.nanmean(all_score, axis=1).round(1))       \n",
    "print(np.nanmax(all_score, axis=1))\n",
    "print(np.nanmin(all_score, axis=1))\n",
    "print(np.nanstd(all_score, axis=1).round(1))"
   ]
  },
  {
   "cell_type": "code",
   "execution_count": 5,
   "metadata": {},
   "outputs": [
    {
     "name": "stdout",
     "output_type": "stream",
     "text": [
      "[[55. 89. 76. 65. 48. 70.]\n",
      " [60. 85. 60. 68. 55. 60.]\n",
      " [65. 90. 82. 72. 66. 77.]]\n"
     ]
    }
   ],
   "source": [
    "math_score[4]=55\n",
    "all_score = np.vstack((english_score, math_score, chinese_score)) \n",
    "print(all_score)"
   ]
  },
  {
   "cell_type": "code",
   "execution_count": 6,
   "metadata": {},
   "outputs": [
    {
     "name": "stdout",
     "output_type": "stream",
     "text": [
      "64.7\n",
      "85.0\n",
      "55.0\n",
      "9.9\n"
     ]
    }
   ],
   "source": [
    "print(np.mean(math_score).round(1))       \n",
    "print(np.max(math_score))\n",
    "print(np.min(math_score))\n",
    "print(np.std(math_score).round(1))"
   ]
  },
  {
   "cell_type": "code",
   "execution_count": 9,
   "metadata": {},
   "outputs": [
    {
     "name": "stdout",
     "output_type": "stream",
     "text": [
      "[[1.   0.79 0.98]\n",
      " [0.79 1.   0.74]\n",
      " [0.98 0.74 1.  ]]\n",
      "跟國文最相關的是英文： 0.978\n"
     ]
    }
   ],
   "source": [
    "print(np.corrcoef(all_score).round(2))    # 英文＿數學＿國文\n",
    "print(\"跟國文最相關的是英文：\", 0.978)"
   ]
  },
  {
   "cell_type": "code",
   "execution_count": null,
   "metadata": {},
   "outputs": [],
   "source": []
  },
  {
   "cell_type": "code",
   "execution_count": null,
   "metadata": {},
   "outputs": [],
   "source": []
  },
  {
   "cell_type": "code",
   "execution_count": null,
   "metadata": {},
   "outputs": [],
   "source": []
  },
  {
   "cell_type": "code",
   "execution_count": null,
   "metadata": {},
   "outputs": [],
   "source": []
  }
 ],
 "metadata": {
  "kernelspec": {
   "display_name": "Python 3",
   "language": "python",
   "name": "python3"
  },
  "language_info": {
   "codemirror_mode": {
    "name": "ipython",
    "version": 3
   },
   "file_extension": ".py",
   "mimetype": "text/x-python",
   "name": "python",
   "nbconvert_exporter": "python",
   "pygments_lexer": "ipython3",
   "version": "3.8.5"
  }
 },
 "nbformat": 4,
 "nbformat_minor": 4
}
