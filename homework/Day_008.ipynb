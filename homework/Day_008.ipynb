{
 "cells": [
  {
   "cell_type": "code",
   "execution_count": 4,
   "metadata": {},
   "outputs": [],
   "source": [
    "import numpy as np\n",
    "name_list = ['小明','小華','小菁','小美','小張','John','Mark','Tom']\n",
    "sex_list = ['boy','boy','girl','girl','boy','boy','boy','boy']\n",
    "weight_list = [67.5,75.3,50.1,45.5,80.8,90.4,78.4,70.7]\n",
    "rank_list = [8,1,5,4,7,6,2,3]\n",
    "myopia_list = [True,True,False,False,True,True,False,False]"
   ]
  },
  {
   "cell_type": "code",
   "execution_count": 5,
   "metadata": {},
   "outputs": [
    {
     "data": {
      "text/plain": [
       "array([('', '', 0., 0, ''), ('', '', 0., 0, ''), ('', '', 0., 0, ''),\n",
       "       ('', '', 0., 0, ''), ('', '', 0., 0, ''), ('', '', 0., 0, ''),\n",
       "       ('', '', 0., 0, ''), ('', '', 0., 0, '')],\n",
       "      dtype=[('Name', '<U5'), ('sex', '<U5'), ('num1', '<f8'), ('num2', '<i8'), ('True', '<U6')])"
      ]
     },
     "execution_count": 5,
     "metadata": {},
     "output_type": "execute_result"
    }
   ],
   "source": [
    "dt = np.dtype({\"names\":(\"Name\", \"sex\", \"num1\",\"num2\", \"True\"), \"formats\":((np.str_, 5),(np.str_, 5), float , int, \"U6\")})\n",
    "x = np.zeros(8, dtype=dt)\n",
    "x"
   ]
  },
  {
   "cell_type": "code",
   "execution_count": 7,
   "metadata": {},
   "outputs": [
    {
     "name": "stdout",
     "output_type": "stream",
     "text": [
      "[('小明', 'boy', 67.5, 8, 'True') ('小華', 'boy', 75.3, 1, 'True')\n",
      " ('小菁', 'girl', 50.1, 5, 'False') ('小美', 'girl', 45.5, 4, 'False')\n",
      " ('小張', 'boy', 80.8, 7, 'True') ('John', 'boy', 90.4, 6, 'True')\n",
      " ('Mark', 'boy', 78.4, 2, 'False') ('Tom', 'boy', 70.7, 3, 'False')]\n"
     ]
    }
   ],
   "source": [
    "x[\"Name\"] = name_list\n",
    "x[\"sex\"] = sex_list\n",
    "x[\"num1\"] = weight_list\n",
    "x[\"num2\"] = rank_list\n",
    "x[\"True\"] = myopia_list\n",
    "print(x)"
   ]
  },
  {
   "cell_type": "code",
   "execution_count": 9,
   "metadata": {},
   "outputs": [
    {
     "data": {
      "text/plain": [
       "69.8375"
      ]
     },
     "execution_count": 9,
     "metadata": {},
     "output_type": "execute_result"
    }
   ],
   "source": [
    "np.mean(x[\"num1\"])"
   ]
  },
  {
   "cell_type": "code",
   "execution_count": 10,
   "metadata": {},
   "outputs": [
    {
     "data": {
      "text/plain": [
       "77.18333333333332"
      ]
     },
     "execution_count": 10,
     "metadata": {},
     "output_type": "execute_result"
    }
   ],
   "source": [
    "np.mean(x[x[\"sex\"]==\"boy\"][\"num1\"]) "
   ]
  },
  {
   "cell_type": "code",
   "execution_count": 11,
   "metadata": {},
   "outputs": [
    {
     "data": {
      "text/plain": [
       "47.8"
      ]
     },
     "execution_count": 11,
     "metadata": {},
     "output_type": "execute_result"
    }
   ],
   "source": [
    "np.mean(x[x[\"sex\"]==\"girl\"][\"num1\"])"
   ]
  },
  {
   "cell_type": "code",
   "execution_count": null,
   "metadata": {},
   "outputs": [],
   "source": []
  }
 ],
 "metadata": {
  "kernelspec": {
   "display_name": "Python 3",
   "language": "python",
   "name": "python3"
  },
  "language_info": {
   "codemirror_mode": {
    "name": "ipython",
    "version": 3
   },
   "file_extension": ".py",
   "mimetype": "text/x-python",
   "name": "python",
   "nbconvert_exporter": "python",
   "pygments_lexer": "ipython3",
   "version": "3.8.5"
  }
 },
 "nbformat": 4,
 "nbformat_minor": 4
}
