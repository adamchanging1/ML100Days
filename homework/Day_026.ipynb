{
 "cells": [
  {
   "cell_type": "code",
   "execution_count": 1,
   "metadata": {},
   "outputs": [],
   "source": [
    "import matplotlib.pyplot as plt\n",
    "import numpy as np\n",
    "import pandas as pd\n",
    "from scipy import stats\n",
    "import math\n",
    "import statistics\n",
    "import seaborn as sns"
   ]
  },
  {
   "cell_type": "code",
   "execution_count": 2,
   "metadata": {},
   "outputs": [
    {
     "name": "stdout",
     "output_type": "stream",
     "text": [
      "statistics_mean : 166 168\n",
      "statistics_median : 165 169\n",
      "rangeV :  39 34\n",
      "statistics_stdev :  9.21 9.77\n",
      "statistics_variance : 84.89 95.38\n",
      "skew: -0.471 0.06\n",
      "kurtosis 0.194 -0.82\n"
     ]
    }
   ],
   "source": [
    "boys = [164, 175, 183, 173, 176, 159, 165, 165, 169, 151, 156, 163, 169, 144, 170, 177, 165, 160, 164, 171]\n",
    "girls = [169, 170, 162, 154, 183, 173, 169, 167, 170, 185, 162, 175, 168, 151, 181, 170, 182, 156, 159, 160]\n",
    "\n",
    "statistics_mean_boy = round(statistics.mean(boys))\n",
    "statistics_mean_girl = round(statistics.mean(girls))\n",
    "print(\"statistics_mean :\", statistics_mean_boy, statistics_mean_girl)\n",
    "\n",
    "statistics_median_boy = round(statistics.median(boys))\n",
    "statistics_median_girl = round(statistics.median(girls))\n",
    "print(\"statistics_median :\", statistics_median_boy, statistics_median_girl ) \n",
    "\n",
    "def rangeV(x): \n",
    "  return(max(x)-min(x))    \n",
    "print(\"rangeV : \", rangeV(boys), rangeV(girls))\n",
    "\n",
    "statistics_stdev_boy = round(statistics.stdev(boys), 2)\n",
    "statistics_stdev_girl = round(statistics.stdev(girls), 2)\n",
    "print(\"statistics_stdev : \", statistics_stdev_boy, statistics_stdev_girl)\n",
    "\n",
    "statistics_var_boy = round(statistics.variance(boys), 2)\n",
    "statistics_var_girl = round(statistics.variance(girls), 2)\n",
    "print(\"statistics_variance :\", statistics_var_boy, statistics_var_girl)\n",
    "\n",
    "statistics_skew_boy = round(stats.skew(boys), 3)\n",
    "statistics_skew_girl = round(stats.skew(girls), 3)\n",
    "print(\"skew:\", statistics_skew_boy, statistics_skew_girl)\n",
    "\n",
    "statistics_kurtosis_boy = round(stats.kurtosis(boys), 3)\n",
    "statistics_kurtosis_girl = round(stats.kurtosis(girls), 3)\n",
    "print(\"kurtosis\", statistics_kurtosis_boy, statistics_kurtosis_girl)"
   ]
  },
  {
   "cell_type": "code",
   "execution_count": 3,
   "metadata": {},
   "outputs": [
    {
     "data": {
      "image/png": "[encoded data removed]",
      "text/plain": [
       "<Figure size 432x288 with 1 Axes>"
      ]
     },
     "metadata": {
      "needs_background": "light"
     },
     "output_type": "display_data"
    }
   ],
   "source": [
    "plt.hist(boys,alpha=.4,bins=40)\n",
    "plt.title('boy,skewness={0},kurtosis={1}'.format(round(stats.skew(boys),2),round(stats.kurtosis(boys),2)))\n",
    "plt.axvline(x = statistics_mean_boy)\n",
    "plt.show()"
   ]
  },
  {
   "cell_type": "code",
   "execution_count": 4,
   "metadata": {},
   "outputs": [
    {
     "data": {
      "image/png": "[encoded data removed]",
      "text/plain": [
       "<Figure size 432x288 with 1 Axes>"
      ]
     },
     "metadata": {
      "needs_background": "light"
     },
     "output_type": "display_data"
    }
   ],
   "source": [
    "plt.hist(girls,alpha=.4,bins=40)\n",
    "plt.title('boy,skewness={0},kurtosis={1}'.format(round(stats.skew(girls),2),round(stats.kurtosis(girls),2)))\n",
    "plt.axvline(x = statistics_mean_girl)\n",
    "plt.show()"
   ]
  },
  {
   "cell_type": "code",
   "execution_count": null,
   "metadata": {},
   "outputs": [],
   "source": []
  }
 ],
 "metadata": {
  "kernelspec": {
   "display_name": "Python 3",
   "language": "python",
   "name": "python3"
  },
  "language_info": {
   "codemirror_mode": {
    "name": "ipython",
    "version": 3
   },
   "file_extension": ".py",
   "mimetype": "text/x-python",
   "name": "python",
   "nbconvert_exporter": "python",
   "pygments_lexer": "ipython3",
   "version": "3.8.5"
  }
 },
 "nbformat": 4,
 "nbformat_minor": 4
}
