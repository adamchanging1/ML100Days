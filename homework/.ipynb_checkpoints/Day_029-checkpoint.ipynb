{
 "cells": [
  {
   "cell_type": "code",
   "execution_count": 1,
   "metadata": {},
   "outputs": [],
   "source": [
    "from numpy.random import normal,uniform\n",
    "from numpy.random import seed\n",
    "import matplotlib.pyplot as plt\n",
    "import numpy as np\n",
    "import seaborn as sns\n",
    "import pandas as pd\n",
    "from scipy import stats\n",
    "import math\n",
    "import pylab\n",
    "%matplotlib inline"
   ]
  },
  {
   "cell_type": "code",
   "execution_count": 2,
   "metadata": {},
   "outputs": [
    {
     "name": "stdout",
     "output_type": "stream",
     "text": [
      "P(Z<1)= 0.8413447460685429\n"
     ]
    }
   ],
   "source": [
    "mu=0\n",
    "sigma=1\n",
    "ans =  stats.norm.cdf(1,mu, sigma)\n",
    "print(\"P(Z<1)=\",ans)"
   ]
  },
  {
   "cell_type": "code",
   "execution_count": 3,
   "metadata": {},
   "outputs": [
    {
     "name": "stdout",
     "output_type": "stream",
     "text": [
      "P(Z>1 or Z<-1)= 0.31731050786291415\n"
     ]
    }
   ],
   "source": [
    "mu=0\n",
    "sigma=1\n",
    "ans_1 = stats.norm.cdf(1, mu, sigma)\n",
    "ans_2 = stats.norm.cdf(-1, mu, sigma)\n",
    "print(\"P(Z>1 or Z<-1)=\",1-(ans_1-ans_2))"
   ]
  },
  {
   "cell_type": "code",
   "execution_count": 5,
   "metadata": {},
   "outputs": [
    {
     "name": "stdout",
     "output_type": "stream",
     "text": [
      "P(Z<2)= 0.9772498680518208\n"
     ]
    }
   ],
   "source": [
    "mu=0\n",
    "sigma=1\n",
    "ans_3=  stats.norm.cdf(2, mu, sigma)\n",
    "print(\"P(Z<2)=\",ans_3)"
   ]
  },
  {
   "cell_type": "code",
   "execution_count": 7,
   "metadata": {},
   "outputs": [
    {
     "name": "stdout",
     "output_type": "stream",
     "text": [
      "P(X<6)= 0.9772498680518208\n"
     ]
    }
   ],
   "source": [
    "mu=2\n",
    "sigma=2 #( 4 要開根號)\n",
    "ans_3 = stats.norm.cdf(6,mu, sigma)\n",
    "print(\"P(X<6)=\",ans_3)"
   ]
  },
  {
   "cell_type": "code",
   "execution_count": null,
   "metadata": {},
   "outputs": [],
   "source": []
  }
 ],
 "metadata": {
  "kernelspec": {
   "display_name": "Python 3",
   "language": "python",
   "name": "python3"
  },
  "language_info": {
   "codemirror_mode": {
    "name": "ipython",
    "version": 3
   },
   "file_extension": ".py",
   "mimetype": "text/x-python",
   "name": "python",
   "nbconvert_exporter": "python",
   "pygments_lexer": "ipython3",
   "version": "3.8.5"
  }
 },
 "nbformat": 4,
 "nbformat_minor": 4
}
