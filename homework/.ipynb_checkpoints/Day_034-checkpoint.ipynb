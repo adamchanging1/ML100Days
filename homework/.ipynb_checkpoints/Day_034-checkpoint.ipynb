{
 "cells": [
  {
   "cell_type": "code",
   "execution_count": 1,
   "metadata": {},
   "outputs": [
    {
     "ename": "SyntaxError",
     "evalue": "invalid character in identifier (<ipython-input-1-d65785f172fb>, line 2)",
     "output_type": "error",
     "traceback": [
      "\u001b[0;36m  File \u001b[0;32m\"<ipython-input-1-d65785f172fb>\"\u001b[0;36m, line \u001b[0;32m2\u001b[0m\n\u001b[0;31m    [思考題] 哪一個問題不適合用資料科學解決？\u001b[0m\n\u001b[0m                         ^\u001b[0m\n\u001b[0;31mSyntaxError\u001b[0m\u001b[0;31m:\u001b[0m invalid character in identifier\n"
     ]
    }
   ],
   "source": [
    "'''\n",
    "[思考題] 哪一個問題不適合用資料科學解決？\n",
    "\n",
    "今天課程中以一個案例，說明資料分析的流程與探索性分析，是否對於課程中一開始的問題，更有想法了？\n",
    "\n",
    "挑選 Mr./Ms. Right\n",
    "顧客下次會買哪些東西？\n",
    "半導體的良率預測？\n",
    "\n",
    "Q1：哪一個問題不適合用資料科學解決？\n",
    "Q2：以你的角度來分析，為什麼這樣的問題，較不適合用資料來解決？\n",
    "\n",
    "將答案寫在論壇中，大家一起互相討論激盪。\n",
    "\n",
    "'''"
   ]
  },
  {
   "cell_type": "code",
   "execution_count": null,
   "metadata": {},
   "outputs": [],
   "source": [
    "''''\n",
    "Q1: Mr/Ms\n",
    "Q2:這是一個會不會被雷打到的概念\n",
    "\n",
    "''''"
   ]
  }
 ],
 "metadata": {
  "kernelspec": {
   "display_name": "Python 3",
   "language": "python",
   "name": "python3"
  },
  "language_info": {
   "codemirror_mode": {
    "name": "ipython",
    "version": 3
   },
   "file_extension": ".py",
   "mimetype": "text/x-python",
   "name": "python",
   "nbconvert_exporter": "python",
   "pygments_lexer": "ipython3",
   "version": "3.8.5"
  }
 },
 "nbformat": 4,
 "nbformat_minor": 4
}
